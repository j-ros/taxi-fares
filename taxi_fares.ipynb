{
 "cells": [
  {
   "cell_type": "code",
   "execution_count": null,
   "metadata": {
    "_cell_guid": "b1076dfc-b9ad-4769-8c92-a6c4dae69d19",
    "_uuid": "8f2839f25d086af736a60e9eeb907d3b93b6e0e5",
    "collapsed": true
   },
   "outputs": [],
   "source": [
    "import numpy as np \n",
    "import pandas as pd\n",
    "import datetime as dt\n",
    "from sklearn.model_selection import train_test_split\n",
    "import xgboost as xgb\n",
    "import os\n",
    "\n",
    "print(os.listdir(\"../input\"))"
   ]
  },
  {
   "cell_type": "markdown",
   "metadata": {
    "_cell_guid": "79c7e3d0-c299-4dcb-8224-4455121ee9b0",
    "_uuid": "d629ff2d2480ee46fbb7e2d37f6b5fab8052498a",
    "collapsed": true
   },
   "source": [
    "**Load dataset**\n",
    "\n",
    "First we will load the train.csv dataset. Since this dataset has 55M rows, we will only use the first 6M to build our model to prevent memory issues and speed up preprocessing and model building."
   ]
  },
  {
   "cell_type": "code",
   "execution_count": null,
   "metadata": {
    "_uuid": "41e7502eb90efe0bf213974dd45d8bf686b5da7c",
    "collapsed": true
   },
   "outputs": [],
   "source": [
    "train_df =  pd.read_csv('../input/train.csv', nrows = 6_000_000) #1M to test models\n",
    "train_df.dtypes"
   ]
  },
  {
   "cell_type": "markdown",
   "metadata": {
    "_uuid": "67a50c3072827032399c98571e1563975e9fab08"
   },
   "source": [
    "**Data exploration**\n",
    "\n",
    "Now we will explore the loaded data to identify outliers and other problems that might need fixing such as null values."
   ]
  },
  {
   "cell_type": "code",
   "execution_count": null,
   "metadata": {
    "_uuid": "13dc61c19a6fd7ec53fb0c4c1947f9e973c745c9",
    "collapsed": true
   },
   "outputs": [],
   "source": [
    "#Identify null values\n",
    "print(train_df.isnull().sum())"
   ]
  },
  {
   "cell_type": "markdown",
   "metadata": {
    "_uuid": "4ed9ec358e20228ebef5f3c79b080f862a247c35"
   },
   "source": [
    "We have a few rows with null values so it is safe to remove them."
   ]
  },
  {
   "cell_type": "code",
   "execution_count": null,
   "metadata": {
    "_uuid": "63af8f6b05047dbca96363a13068b082f17bf33d",
    "collapsed": true
   },
   "outputs": [],
   "source": [
    "#Drop rows with null values\n",
    "train_df = train_df.dropna(how = 'any', axis = 'rows')"
   ]
  },
  {
   "cell_type": "markdown",
   "metadata": {
    "_uuid": "1cdc7b60c4ffa97154278cb7d912ada941d4b004"
   },
   "source": [
    "Now let's explore the variables in the dataset. First we will look at the first rows to get an idea of the format of the values and then we will plot them to get a sense of their distribution and identify outliers."
   ]
  },
  {
   "cell_type": "code",
   "execution_count": null,
   "metadata": {
    "_uuid": "b0a5761b710bf2b1465c732f5869ad521f84dd1f",
    "collapsed": true
   },
   "outputs": [],
   "source": [
    "#Look at the first rows\n",
    "train_df.head()"
   ]
  },
  {
   "cell_type": "code",
   "execution_count": null,
   "metadata": {
    "_uuid": "c7e63eddd28a5786b1cb9f2fced34e260a2fbde6",
    "collapsed": true
   },
   "outputs": [],
   "source": [
    "#Plot variables using only 1000 rows for efficiency\n",
    "train_df.iloc[:1000].plot.scatter('pickup_longitude', 'pickup_latitude')\n",
    "train_df.iloc[:1000].plot.scatter('dropoff_longitude', 'dropoff_latitude')\n",
    "\n",
    "#Get distribution of values\n",
    "train_df.describe()"
   ]
  },
  {
   "cell_type": "markdown",
   "metadata": {
    "_uuid": "8df4397ae5fee4edb2c7fdd0e03b40b0ec1c7182"
   },
   "source": [
    "Okay, that was interesting. We learned a few things about the dataset:\n",
    "- Fare_amount has negative values. We will remove those.\n",
    "- Latitudes and longitudes have values near 0 that cannot be correct since NYC is at (40,-74) aprox. We will remove points not near these coordinates.\n",
    "- Passenger_count has values of 0 and as high as 200, which are also unrealistic. We will remove those.\n"
   ]
  },
  {
   "cell_type": "code",
   "execution_count": null,
   "metadata": {
    "_uuid": "286761fca37f938207d1bee8a7b4ede99388fdd1",
    "collapsed": true,
    "scrolled": true
   },
   "outputs": [],
   "source": [
    "#Clean dataset\n",
    "def clean_df(df):\n",
    "    return df[(df.fare_amount > 0) & \n",
    "            (df.pickup_longitude > -80) & (df.pickup_longitude < -70) &\n",
    "            (df.pickup_latitude > 35) & (df.pickup_latitude < 45) &\n",
    "            (df.dropoff_longitude > -80) & (df.dropoff_longitude < -70) &\n",
    "            (df.dropoff_latitude > 35) & (df.dropoff_latitude < 45) &\n",
    "            (df.passenger_count > 0) & (df.passenger_count < 10)]\n",
    "\n",
    "train_df = clean_df(train_df)\n",
    "print(len(train_df))"
   ]
  },
  {
   "cell_type": "markdown",
   "metadata": {
    "_uuid": "759a91c11c07b15d5b7f8c6b1ee61cb3aa3bd61e"
   },
   "source": [
    "**Feature engineering**\n",
    "\n",
    "Now that we have cleaned some extreme values, we will add some interesting features in the dataset.\n",
    "- total_distance: distance from pickup to dropoff. The longer the trip, the more expensive.\n",
    "- Extract information from datetime (day of week, month, hour, day, year). Taxi fares change day/night or on weekdays/holidays.\n",
    "- Add columns indicating distance from pickup or dropoff coordinates to airports. Trips from/to an airport have a fixed fee."
   ]
  },
  {
   "cell_type": "code",
   "execution_count": null,
   "metadata": {
    "_uuid": "cf4dc24dc12477bb24c32ee52f722fe12902ea51",
    "collapsed": true
   },
   "outputs": [],
   "source": [
    "def sphere_dist(pickup_lat, pickup_lon, dropoff_lat, dropoff_lon):\n",
    "    \"\"\"\n",
    "    Return distance along great radius between pickup and dropoff coordinates.\n",
    "    \"\"\"\n",
    "    #Define earth radius (km)\n",
    "    R_earth = 6371\n",
    "    #Convert degrees to radians\n",
    "    pickup_lat, pickup_lon, dropoff_lat, dropoff_lon = map(np.radians,\n",
    "                                                             [pickup_lat, pickup_lon, \n",
    "                                                              dropoff_lat, dropoff_lon])\n",
    "    #Compute distances along lat, lon dimensions\n",
    "    dlat = dropoff_lat - pickup_lat\n",
    "    dlon = dropoff_lon - pickup_lon\n",
    "    \n",
    "    #Compute haversine distance\n",
    "    a = np.sin(dlat/2.0)**2 + np.cos(pickup_lat) * np.cos(dropoff_lat) * np.sin(dlon/2.0)**2\n",
    "    \n",
    "    return 2 * R_earth * np.arcsin(np.sqrt(a))\n",
    "\n",
    "def add_airport_dist(dataset):\n",
    "    \"\"\"\n",
    "    Return minumum distance from pickup or dropoff coordinates to each airport.\n",
    "    JFK: John F. Kennedy International Airport\n",
    "    EWR: Newark Liberty International Airport\n",
    "    LGA: LaGuardia Airport\n",
    "    \"\"\"\n",
    "    jfk_coord = (40.639722, -73.778889)\n",
    "    ewr_coord = (40.6925, -74.168611)\n",
    "    lga_coord = (40.77725, -73.872611)\n",
    "    \n",
    "    pickup_lat = dataset['pickup_latitude']\n",
    "    dropoff_lat = dataset['dropoff_latitude']\n",
    "    pickup_lon = dataset['pickup_longitude']\n",
    "    dropoff_lon = dataset['dropoff_longitude']\n",
    "    \n",
    "    pickup_jfk = sphere_dist(pickup_lat, pickup_lon, jfk_coord[0], jfk_coord[1]) \n",
    "    dropoff_jfk = sphere_dist(jfk_coord[0], jfk_coord[1], dropoff_lat, dropoff_lon) \n",
    "    pickup_ewr = sphere_dist(pickup_lat, pickup_lon, ewr_coord[0], ewr_coord[1])\n",
    "    dropoff_ewr = sphere_dist(ewr_coord[0], ewr_coord[1], dropoff_lat, dropoff_lon) \n",
    "    pickup_lga = sphere_dist(pickup_lat, pickup_lon, lga_coord[0], lga_coord[1]) \n",
    "    dropoff_lga = sphere_dist(lga_coord[0], lga_coord[1], dropoff_lat, dropoff_lon) \n",
    "    \n",
    "    dataset['jfk_dist'] = pd.concat([pickup_jfk, dropoff_jfk], axis=1).min(axis=1)\n",
    "    dataset['ewr_dist'] = pd.concat([pickup_ewr, dropoff_ewr], axis=1).min(axis=1)\n",
    "    dataset['lga_dist'] = pd.concat([pickup_lga, dropoff_lga], axis=1).min(axis=1)\n",
    "    \n",
    "    return dataset\n",
    "    \n",
    "def add_datetime_info(dataset):\n",
    "    #Convert to datetime format\n",
    "    dataset['pickup_datetime'] = pd.to_datetime(dataset['pickup_datetime'],format=\"%Y-%m-%d %H:%M:%S UTC\")\n",
    "    \n",
    "    dataset['hour'] = dataset.pickup_datetime.dt.hour\n",
    "    dataset['day'] = dataset.pickup_datetime.dt.day\n",
    "    dataset['month'] = dataset.pickup_datetime.dt.month\n",
    "    dataset['weekday'] = dataset.pickup_datetime.dt.weekday\n",
    "    dataset['year'] = dataset.pickup_datetime.dt.year\n",
    "    \n",
    "    return dataset\n",
    "\n",
    "train_df = add_datetime_info(train_df)\n",
    "train_df = add_airport_dist(train_df)\n",
    "train_df['distance'] = sphere_dist(train_df['pickup_latitude'], train_df['pickup_longitude'], \n",
    "                                   train_df['dropoff_latitude'] , train_df['dropoff_longitude'])\n",
    "\n",
    "train_df.head()"
   ]
  },
  {
   "cell_type": "markdown",
   "metadata": {
    "_uuid": "158fd6b7a6d9a584418ec1a0be2b0cbe9311e629",
    "collapsed": true
   },
   "source": [
    "Now we need to drop the columns that we will not use to train our model.\n",
    "- key\n",
    "- pickup_datetime"
   ]
  },
  {
   "cell_type": "code",
   "execution_count": null,
   "metadata": {
    "_uuid": "2a7ceec12850b9eaddc6e6f5500d8916459cc6cb",
    "collapsed": true
   },
   "outputs": [],
   "source": [
    "train_df.drop(columns=['key', 'pickup_datetime'], inplace=True)\n",
    "train_df.head()"
   ]
  },
  {
   "cell_type": "markdown",
   "metadata": {
    "_uuid": "f3775b9a6c2de1f613672b5b65ed47017462cf0b"
   },
   "source": [
    "**Model training**\n",
    "\n",
    "Now that we have the dataframe that we wanted we can start to train the XGBoost model. First we will split the dataset into train (99%)  and test (1%). With this amount of data 1% should be enough to test performance."
   ]
  },
  {
   "cell_type": "code",
   "execution_count": null,
   "metadata": {
    "_uuid": "c2e97a94627615364085834bc9bc282be060599d",
    "collapsed": true
   },
   "outputs": [],
   "source": [
    "y = train_df['fare_amount']\n",
    "train = train_df.drop(columns=['fare_amount'])\n",
    "\n",
    "x_train,x_test,y_train,y_test = train_test_split(train,y,random_state=0,test_size=0.01)"
   ]
  },
  {
   "cell_type": "code",
   "execution_count": null,
   "metadata": {
    "_uuid": "c3ca8d4d6462b57375c55915548a9c0b9a998769",
    "collapsed": true
   },
   "outputs": [],
   "source": [
    "params = {\n",
    "    # Parameters that we are going to tune.\n",
    "    'max_depth': 8, #Result of tuning with CV\n",
    "    'eta': .03, #Result of tuning with CV\n",
    "    'subsample': 1, #Result of tuning with CV\n",
    "    'colsample_bytree': 0.8, #Result of tuning with CV\n",
    "    # Other parameters\n",
    "    'objective':'reg:linear',\n",
    "    'eval_metric':'rmse',\n",
    "    'silent': 0\n",
    "}"
   ]
  },
  {
   "cell_type": "code",
   "execution_count": null,
   "metadata": {
    "_uuid": "69cf63c23d09cb2f7353d45e1365948c412405bd",
    "collapsed": true
   },
   "outputs": [],
   "source": [
    "#Cross-validation\n",
    "\n",
    "#Block of code used for hypertuning parameters. Adapt to each round of parameter tuning.\n",
    "#Turn off CV in submission\n",
    "CV=False\n",
    "if CV:\n",
    "    dtrain = xgb.DMatrix(train,label=y)\n",
    "    gridsearch_params = [\n",
    "        (eta)\n",
    "        for eta in np.arange(.04, 0.12, .02)\n",
    "    ]\n",
    "    params['silent'] = 1 #Turn off output\n",
    "    \n",
    "    # Define initial best params and RMSE\n",
    "    min_rmse = float(\"Inf\")\n",
    "    best_params = None\n",
    "    for (eta) in gridsearch_params:\n",
    "        print(\"CV with eta={} \".format(\n",
    "                                 eta))\n",
    "\n",
    "        # Update our parameters\n",
    "        params['eta'] = eta\n",
    "\n",
    "        # Run CV\n",
    "        cv_results = xgb.cv(\n",
    "            params,\n",
    "            dtrain,\n",
    "            num_boost_round=1000,\n",
    "            nfold=3,\n",
    "            metrics={'rmse'},\n",
    "            early_stopping_rounds=10\n",
    "        )\n",
    "\n",
    "        # Update best RMSE\n",
    "        mean_rmse = cv_results['test-rmse-mean'].min()\n",
    "        boost_rounds = cv_results['test-rmse-mean'].argmin()\n",
    "        print(\"\\tRMSE {} for {} rounds\".format(mean_rmse, boost_rounds))\n",
    "        if mean_rmse < min_rmse:\n",
    "            min_rmse = mean_rmse\n",
    "            best_params = (eta)\n",
    "\n",
    "    print(\"Best params: {}, RMSE: {}\".format(best_params, min_rmse))\n",
    "else:\n",
    "    #Print final params to use for the model\n",
    "    print(params)"
   ]
  },
  {
   "cell_type": "code",
   "execution_count": null,
   "metadata": {
    "_uuid": "7cfa5cd524f30e6fbcc4c4c788b2a8c8703221de",
    "collapsed": true
   },
   "outputs": [],
   "source": [
    "def XGBmodel(x_train,x_test,y_train,y_test,params):\n",
    "    matrix_train = xgb.DMatrix(x_train,label=y_train)\n",
    "    matrix_test = xgb.DMatrix(x_test,label=y_test)\n",
    "    model=xgb.train(params=params,\n",
    "                    dtrain=matrix_train,num_boost_round=5000, \n",
    "                    early_stopping_rounds=10,evals=[(matrix_test,'test')])\n",
    "    return model\n",
    "\n",
    "model = XGBmodel(x_train,x_test,y_train,y_test,params)"
   ]
  },
  {
   "cell_type": "markdown",
   "metadata": {
    "_uuid": "ecdfbfa119de80585d53df3a1dddc3771b438a72"
   },
   "source": [
    "**Prediction**\n",
    "\n",
    "Finally we can use our trained model to predict the submission. First we will need to load and preprocess the test dataset just like we did for the training dataset."
   ]
  },
  {
   "cell_type": "code",
   "execution_count": null,
   "metadata": {
    "_uuid": "5c326448d0f49e7a1547da0820ac931c20a5dabb",
    "collapsed": true
   },
   "outputs": [],
   "source": [
    "#Read and preprocess test set\n",
    "test_df =  pd.read_csv('../input/test.csv')\n",
    "test_df = add_datetime_info(test_df)\n",
    "test_df = add_airport_dist(test_df)\n",
    "test_df['distance'] = sphere_dist(test_df['pickup_latitude'], test_df['pickup_longitude'], \n",
    "                                   test_df['dropoff_latitude'] , test_df['dropoff_longitude'])\n",
    "\n",
    "test_key = test_df['key']\n",
    "x_pred = test_df.drop(columns=['key', 'pickup_datetime'])\n",
    "\n",
    "#Predict from test set\n",
    "prediction = model.predict(xgb.DMatrix(x_pred), ntree_limit = model.best_ntree_limit)"
   ]
  },
  {
   "cell_type": "code",
   "execution_count": null,
   "metadata": {
    "_uuid": "8e0bd0c431cb912aa91092c9f6fdb5e2cbf40669",
    "collapsed": true
   },
   "outputs": [],
   "source": [
    "#Create submission file\n",
    "submission = pd.DataFrame({\n",
    "        \"key\": test_key,\n",
    "        \"fare_amount\": prediction.round(2)\n",
    "})\n",
    "\n",
    "submission.to_csv('taxi_fare_submission.csv',index=False)\n",
    "submission.head()"
   ]
  },
  {
   "cell_type": "markdown",
   "metadata": {
    "_uuid": "575db49166dea9d6fd01f16ebb01ec411d30f6f4"
   },
   "source": [
    "**Possible improvements**\n",
    "\n",
    "- Try to scale up to use more training samples, right now we only use ~10% of the dataset."
   ]
  }
 ],
 "metadata": {
  "kernelspec": {
   "display_name": "Python 3",
   "language": "python",
   "name": "python3"
  },
  "language_info": {
   "codemirror_mode": {
    "name": "ipython",
    "version": 3
   },
   "file_extension": ".py",
   "mimetype": "text/x-python",
   "name": "python",
   "nbconvert_exporter": "python",
   "pygments_lexer": "ipython3",
   "version": "3.6.4"
  }
 },
 "nbformat": 4,
 "nbformat_minor": 1
}
